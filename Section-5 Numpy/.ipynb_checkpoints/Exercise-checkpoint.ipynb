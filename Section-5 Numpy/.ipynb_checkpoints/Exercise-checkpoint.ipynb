{
 "cells": [
  {
   "cell_type": "code",
   "execution_count": 25,
   "id": "991035ae-b93f-4277-83ee-e8e23669101b",
   "metadata": {},
   "outputs": [
    {
     "data": {
      "text/plain": [
       "array([1, 2, 3, 4])"
      ]
     },
     "execution_count": 25,
     "metadata": {},
     "output_type": "execute_result"
    }
   ],
   "source": [
    "#pip install numpy\n",
    "import numpy as np\n",
    "#1 D array\n",
    "my_list=[1,2,3,4]\n",
    "arr= np.array(my_list)\n",
    "arr"
   ]
  },
  {
   "cell_type": "code",
   "execution_count": 31,
   "id": "8ff3abb1-c86c-46fc-bb0b-72ead4c9af11",
   "metadata": {},
   "outputs": [
    {
     "data": {
      "text/plain": [
       "array([[1, 2, 3],\n",
       "       [4, 5, 6],\n",
       "       [7, 8, 9]])"
      ]
     },
     "execution_count": 31,
     "metadata": {},
     "output_type": "execute_result"
    }
   ],
   "source": [
    "#2 D array\n",
    "my_list=[[1,2,3],[4,5,6],[7,8,9]]\n",
    "arr= np.array(my_list)\n",
    "arr"
   ]
  },
  {
   "cell_type": "code",
   "execution_count": 28,
   "id": "23f8ac87-c354-40f5-ae2f-ad6dd53c340f",
   "metadata": {},
   "outputs": [
    {
     "data": {
      "text/plain": [
       "array([0, 3, 6, 9])"
      ]
     },
     "execution_count": 28,
     "metadata": {},
     "output_type": "execute_result"
    }
   ],
   "source": [
    "# array from 0 to 9 with step size of 3\n",
    "np.arange(0,10,3)"
   ]
  },
  {
   "cell_type": "code",
   "execution_count": 29,
   "id": "c76c454b-a90c-4c58-b9d9-697bdd4e23e7",
   "metadata": {},
   "outputs": [
    {
     "data": {
      "text/plain": [
       "array([0., 0., 0.])"
      ]
     },
     "execution_count": 29,
     "metadata": {},
     "output_type": "execute_result"
    }
   ],
   "source": [
    "np.zeros(3)"
   ]
  },
  {
   "cell_type": "code",
   "execution_count": 30,
   "id": "867b75d3-ef87-4f2d-9816-0f4595195242",
   "metadata": {},
   "outputs": [
    {
     "data": {
      "text/plain": [
       "array([[0., 0., 0.],\n",
       "       [0., 0., 0.]])"
      ]
     },
     "execution_count": 30,
     "metadata": {},
     "output_type": "execute_result"
    }
   ],
   "source": [
    "#We need to pass the tuple for two dimensional array\n",
    "np.zeros((2,3))"
   ]
  },
  {
   "cell_type": "code",
   "execution_count": 24,
   "id": "1799b4a5-91bb-4857-a42f-dab84351d813",
   "metadata": {},
   "outputs": [
    {
     "data": {
      "text/plain": [
       "array([[1., 1., 1., 1.],\n",
       "       [1., 1., 1., 1.],\n",
       "       [1., 1., 1., 1.],\n",
       "       [1., 1., 1., 1.]])"
      ]
     },
     "execution_count": 24,
     "metadata": {},
     "output_type": "execute_result"
    }
   ],
   "source": [
    "#to create matrix with ones\n",
    "np.ones(4)\n",
    "np.ones((4,4))"
   ]
  },
  {
   "cell_type": "code",
   "execution_count": 14,
   "id": "20f9dbf6-a011-4cf1-b5a7-17671bae50e3",
   "metadata": {},
   "outputs": [
    {
     "data": {
      "text/plain": [
       "array([ 0.        ,  1.11111111,  2.22222222,  3.33333333,  4.44444444,\n",
       "        5.55555556,  6.66666667,  7.77777778,  8.88888889, 10.        ])"
      ]
     },
     "execution_count": 14,
     "metadata": {},
     "output_type": "execute_result"
    }
   ],
   "source": [
    "# returns evenly spaced 1 dimensional vector\n",
    "np.linspace(0,10,10)"
   ]
  },
  {
   "cell_type": "code",
   "execution_count": 16,
   "id": "54061ea8-c419-4de9-b3db-98673f087b10",
   "metadata": {},
   "outputs": [
    {
     "data": {
      "text/plain": [
       "array([[1., 0., 0., 0.],\n",
       "       [0., 1., 0., 0.],\n",
       "       [0., 0., 1., 0.],\n",
       "       [0., 0., 0., 1.]])"
      ]
     },
     "execution_count": 16,
     "metadata": {},
     "output_type": "execute_result"
    }
   ],
   "source": [
    "# to create identity matrix of 4 rows and 4 columns\n",
    "np.eye(4)"
   ]
  },
  {
   "cell_type": "code",
   "execution_count": 18,
   "id": "66d60727-0992-4cf2-bdd8-17a72e1d3816",
   "metadata": {},
   "outputs": [
    {
     "data": {
      "text/plain": [
       "array([[0.87685782, 0.08189843, 0.17844966],\n",
       "       [0.78180447, 0.88790214, 0.60305452]])"
      ]
     },
     "execution_count": 18,
     "metadata": {},
     "output_type": "execute_result"
    }
   ],
   "source": [
    "# random samples from uniform distribution from 0 to 1\n",
    "np.random.rand(4)\n",
    "np.random.rand(2,3)"
   ]
  },
  {
   "cell_type": "code",
   "execution_count": 21,
   "id": "53fbaaa7-fdd8-4388-847b-3e1bbf4a60f6",
   "metadata": {},
   "outputs": [
    {
     "data": {
      "text/plain": [
       "array([ 0.73685363, -0.455228  ,  1.14134489,  1.43551519, -0.49033863])"
      ]
     },
     "execution_count": 21,
     "metadata": {},
     "output_type": "execute_result"
    }
   ],
   "source": [
    "# random samples from standard normal distribution around 0\n",
    "np.random.randn(5)"
   ]
  },
  {
   "cell_type": "code",
   "execution_count": 22,
   "id": "53b5729e-54a2-4f10-b322-3a9bb60da4a8",
   "metadata": {},
   "outputs": [
    {
     "data": {
      "text/plain": [
       "array([59, 27, 45, 13, 26, 89, 73, 53, 85, 26])"
      ]
     },
     "execution_count": 22,
     "metadata": {},
     "output_type": "execute_result"
    }
   ],
   "source": [
    "#random 10 integers from 0 to 100\n",
    "np.random.randint(1, 100 ,10)"
   ]
  },
  {
   "cell_type": "code",
   "execution_count": 41,
   "id": "06b01adf-9d5a-4e29-8ace-545b9271cf75",
   "metadata": {},
   "outputs": [
    {
     "name": "stdout",
     "output_type": "stream",
     "text": [
      "24\n"
     ]
    },
    {
     "data": {
      "text/plain": [
       "0"
      ]
     },
     "execution_count": 41,
     "metadata": {},
     "output_type": "execute_result"
    }
   ],
   "source": [
    "my_arr= np.arange(0,25)\n",
    "print(my_arr.max())\n",
    "my_arr.min()"
   ]
  },
  {
   "cell_type": "code",
   "execution_count": 42,
   "id": "7fbd4e4a-c569-445a-8865-0f7335b22263",
   "metadata": {},
   "outputs": [
    {
     "name": "stdout",
     "output_type": "stream",
     "text": [
      "24\n"
     ]
    },
    {
     "data": {
      "text/plain": [
       "0"
      ]
     },
     "execution_count": 42,
     "metadata": {},
     "output_type": "execute_result"
    }
   ],
   "source": [
    "# to return the index of max and min\n",
    "print(my_arr.argmax())\n",
    "my_arr.argmin()"
   ]
  },
  {
   "cell_type": "code",
   "execution_count": 48,
   "id": "a8fb0e85-7688-4fa6-83b6-540c906c7044",
   "metadata": {},
   "outputs": [
    {
     "data": {
      "text/plain": [
       "array([[ 0,  1,  2,  3,  4],\n",
       "       [ 5,  6,  7,  8,  9],\n",
       "       [10, 11, 12, 13, 14],\n",
       "       [15, 16, 17, 18, 19],\n",
       "       [20, 21, 22, 23, 24]])"
      ]
     },
     "execution_count": 48,
     "metadata": {},
     "output_type": "execute_result"
    }
   ],
   "source": [
    "# reshape method to put 25 elements in 2 D array \n",
    "two_d=my_arr.reshape(5,5) # dimension should match the number of elemens in 1 D array\n",
    "two_d"
   ]
  },
  {
   "cell_type": "code",
   "execution_count": 51,
   "id": "29cb5d1e-7ca4-4d66-8515-c3e3d4431adf",
   "metadata": {},
   "outputs": [
    {
     "data": {
      "text/plain": [
       "(5, 5)"
      ]
     },
     "execution_count": 51,
     "metadata": {},
     "output_type": "execute_result"
    }
   ],
   "source": [
    "# get the shape of array\n",
    "my_arr.shape\n",
    "two_d.shape"
   ]
  },
  {
   "cell_type": "code",
   "execution_count": 50,
   "id": "4408be7b-ed6d-48a4-8b1d-68ae9d5998eb",
   "metadata": {},
   "outputs": [
    {
     "data": {
      "text/plain": [
       "dtype('int32')"
      ]
     },
     "execution_count": 50,
     "metadata": {},
     "output_type": "execute_result"
    }
   ],
   "source": [
    "# get the datatype array\n",
    "two_d.dtype"
   ]
  },
  {
   "cell_type": "code",
   "execution_count": 52,
   "id": "64afd0b9-78fb-4537-bcb4-1ed9ca7c86b1",
   "metadata": {},
   "outputs": [],
   "source": [
    "my_arr= np.arange(0,20)"
   ]
  },
  {
   "cell_type": "code",
   "execution_count": 54,
   "id": "4da00238-ac6a-459e-8757-f493955f0373",
   "metadata": {},
   "outputs": [
    {
     "data": {
      "text/plain": [
       "array([0, 1, 2, 3, 4, 5])"
      ]
     },
     "execution_count": 54,
     "metadata": {},
     "output_type": "execute_result"
    }
   ],
   "source": [
    "#everything upto 6th index\n",
    "my_arr[:6]"
   ]
  },
  {
   "cell_type": "code",
   "execution_count": 55,
   "id": "dc397a78-43f7-4bf0-9f57-f3add3e82925",
   "metadata": {},
   "outputs": [
    {
     "data": {
      "text/plain": [
       "array([ 5,  6,  7,  8,  9, 10, 11, 12, 13, 14, 15, 16, 17, 18, 19])"
      ]
     },
     "execution_count": 55,
     "metadata": {},
     "output_type": "execute_result"
    }
   ],
   "source": [
    "#everything after 5th index\n",
    "my_arr[5: ]"
   ]
  },
  {
   "cell_type": "code",
   "execution_count": 56,
   "id": "077814bc-2ab3-40f6-b0e4-cabeee80834b",
   "metadata": {},
   "outputs": [
    {
     "data": {
      "text/plain": [
       "array([20, 20, 20, 20,  4,  5,  6,  7,  8,  9, 10, 11, 12, 13, 14, 15, 16,\n",
       "       17, 18, 19])"
      ]
     },
     "execution_count": 56,
     "metadata": {},
     "output_type": "execute_result"
    }
   ],
   "source": [
    "my_arr[0:4]=20\n",
    "my_arr"
   ]
  },
  {
   "cell_type": "code",
   "execution_count": 58,
   "id": "7d7d1fe1-39fd-42f3-ac7d-c15218d33d97",
   "metadata": {},
   "outputs": [
    {
     "data": {
      "text/plain": [
       "array([1000, 1000, 1000, 1000, 1000, 1000, 1000, 1000, 1000, 1000,   10,\n",
       "         11,   12,   13,   14,   15,   16,   17,   18,   19])"
      ]
     },
     "execution_count": 58,
     "metadata": {},
     "output_type": "execute_result"
    }
   ],
   "source": [
    "slice=my_arr[0:10]\n",
    "slice[:]=1000 # the slice changes are broadcasted to original array\n",
    "my_arr"
   ]
  },
  {
   "cell_type": "code",
   "execution_count": 59,
   "id": "824732a5-1a12-4129-8eab-e86817a5f616",
   "metadata": {},
   "outputs": [
    {
     "data": {
      "text/plain": [
       "array([2000, 2000, 2000, 2000, 2000, 2000, 2000, 2000, 2000, 2000, 2000,\n",
       "       2000, 2000, 2000, 2000, 2000, 2000, 2000, 2000, 2000])"
      ]
     },
     "execution_count": 59,
     "metadata": {},
     "output_type": "execute_result"
    }
   ],
   "source": [
    "my_copy=my_arr.copy() # the changes are not reflected in the original array when using copy method\n",
    "my_copy[:]=2000\n",
    "my_copy"
   ]
  },
  {
   "cell_type": "code",
   "execution_count": 60,
   "id": "076196cb-664c-49bc-96f7-1e7d098774b0",
   "metadata": {},
   "outputs": [
    {
     "data": {
      "text/plain": [
       "array([1000, 1000, 1000, 1000, 1000, 1000, 1000, 1000, 1000, 1000,   10,\n",
       "         11,   12,   13,   14,   15,   16,   17,   18,   19])"
      ]
     },
     "execution_count": 60,
     "metadata": {},
     "output_type": "execute_result"
    }
   ],
   "source": [
    "my_arr"
   ]
  },
  {
   "cell_type": "code",
   "execution_count": null,
   "id": "5e08cf49-467f-4829-8b00-5bf84267916d",
   "metadata": {},
   "outputs": [],
   "source": []
  }
 ],
 "metadata": {
  "kernelspec": {
   "display_name": "Python 3 (ipykernel)",
   "language": "python",
   "name": "python3"
  },
  "language_info": {
   "codemirror_mode": {
    "name": "ipython",
    "version": 3
   },
   "file_extension": ".py",
   "mimetype": "text/x-python",
   "name": "python",
   "nbconvert_exporter": "python",
   "pygments_lexer": "ipython3",
   "version": "3.10.2"
  }
 },
 "nbformat": 4,
 "nbformat_minor": 5
}
