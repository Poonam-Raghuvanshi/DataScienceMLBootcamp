{
 "cells": [
  {
   "cell_type": "code",
   "execution_count": 10,
   "id": "7c7ff220-dad6-4e9c-ae99-29ba6bb4ab50",
   "metadata": {},
   "outputs": [
    {
     "data": {
      "text/plain": [
       "a    10\n",
       "b    20\n",
       "c    30\n",
       "d    40\n",
       "dtype: int32"
      ]
     },
     "execution_count": 10,
     "metadata": {},
     "output_type": "execute_result"
    }
   ],
   "source": [
    "#pip install pandas\n",
    "import numpy as np\n",
    "import pandas as pd\n",
    "dict={'a':10,'b':20,'c':30,'d':40}\n",
    "label=['a','b','c','d']\n",
    "data=[10,20,30,40]\n",
    "arr=np.array(data) # data is numpy array\n",
    "\n",
    "pd.Series(data=arr,index=label)"
   ]
  },
  {
   "cell_type": "code",
   "execution_count": 11,
   "id": "c77b3f75-c8dd-435f-bb32-f8f9992f3e4c",
   "metadata": {},
   "outputs": [
    {
     "data": {
      "text/plain": [
       "a    10\n",
       "b    20\n",
       "c    30\n",
       "d    40\n",
       "dtype: int64"
      ]
     },
     "execution_count": 11,
     "metadata": {},
     "output_type": "execute_result"
    }
   ],
   "source": [
    "pd.Series(dict)"
   ]
  },
  {
   "cell_type": "code",
   "execution_count": 16,
   "id": "37dbd304-f121-4fd8-b5da-c530205fec1c",
   "metadata": {},
   "outputs": [
    {
     "data": {
      "text/plain": [
       "Series     NaN\n",
       "This       NaN\n",
       "a         33.0\n",
       "is        22.0\n",
       "series     NaN\n",
       "this       NaN\n",
       "dtype: float64"
      ]
     },
     "execution_count": 16,
     "metadata": {},
     "output_type": "execute_result"
    }
   ],
   "source": [
    "series=pd.Series([10,20,30,40],['This','is','a','Series'])\n",
    "series2=pd.Series([1,2,3,4],['this','is','a','series'])\n",
    "series+series2  // NaN for no match found"
   ]
  },
  {
   "cell_type": "code",
   "execution_count": 14,
   "id": "1cc55842-0612-4580-9459-a42b3f8adbe3",
   "metadata": {},
   "outputs": [
    {
     "data": {
      "text/plain": [
       "10"
      ]
     },
     "execution_count": 14,
     "metadata": {},
     "output_type": "execute_result"
    }
   ],
   "source": [
    "series['This']"
   ]
  },
  {
   "cell_type": "code",
   "execution_count": null,
   "id": "f1972719-c3cb-4eac-864b-a3a1cee88bb4",
   "metadata": {},
   "outputs": [],
   "source": [
    "np.random.seed(101)\n",
    "df=pd.DataFrame(np.randn(5,4),['A','B','C','D','E'],['W','X','Y','Z'])"
   ]
  }
 ],
 "metadata": {
  "kernelspec": {
   "display_name": "Python 3 (ipykernel)",
   "language": "python",
   "name": "python3"
  },
  "language_info": {
   "codemirror_mode": {
    "name": "ipython",
    "version": 3
   },
   "file_extension": ".py",
   "mimetype": "text/x-python",
   "name": "python",
   "nbconvert_exporter": "python",
   "pygments_lexer": "ipython3",
   "version": "3.10.2"
  }
 },
 "nbformat": 4,
 "nbformat_minor": 5
}
